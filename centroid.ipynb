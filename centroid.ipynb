{
 "cells": [
  {
   "cell_type": "code",
   "execution_count": 1,
   "metadata": {
    "collapsed": true
   },
   "outputs": [],
   "source": [
    "import cv2\n",
    "import numpy as np"
   ]
  },
  {
   "cell_type": "code",
   "execution_count": 2,
   "metadata": {
    "collapsed": true
   },
   "outputs": [],
   "source": [
    "def getCentroid(img):\n",
    "   row, col = img.shape\n",
    "\n",
    "   xVal = 0\n",
    "   yVal = 0\n",
    "   n = 0.0\n",
    "\n",
    "   for x in range(0,row):\n",
    "      for y in range(0,col):\n",
    "         if (img[x,y] == 0):\n",
    "            xVal += x\n",
    "            yVal += y\n",
    "            n += 1.0\n",
    "\n",
    "   xVal /= n\n",
    "   yVal /= n\n",
    "\n",
    "   return [np.int64(np.round(xVal)),np.int64(np.round(yVal))]"
   ]
  },
  {
   "cell_type": "code",
   "execution_count": 3,
   "metadata": {},
   "outputs": [
    {
     "data": {
      "text/plain": [
       "True"
      ]
     },
     "execution_count": 3,
     "metadata": {},
     "output_type": "execute_result"
    }
   ],
   "source": [
    "a = cv2.imread('cnt.png', 0)\n",
    "\n",
    "c1 = getCentroid(a) # Original\n",
    "c2 = getCentroid(255 - a) # Inverse\n",
    "\n",
    "b = cv2.cvtColor(a, cv2.COLOR_GRAY2BGR)\n",
    "cv2.circle(b, (c1[1], c1[0]), 3, (0,0,255))\n",
    "cv2.circle(b, (c2[1], c2[0]), 3, (0,255,0))\n",
    "\n",
    "cv2.imwrite('cnt_out.png', b)"
   ]
  },
  {
   "cell_type": "code",
   "execution_count": null,
   "metadata": {
    "collapsed": true
   },
   "outputs": [],
   "source": []
  }
 ],
 "metadata": {
  "kernelspec": {
   "display_name": "Python 3",
   "language": "python",
   "name": "python3"
  },
  "language_info": {
   "codemirror_mode": {
    "name": "ipython",
    "version": 3
   },
   "file_extension": ".py",
   "mimetype": "text/x-python",
   "name": "python",
   "nbconvert_exporter": "python",
   "pygments_lexer": "ipython3",
   "version": "3.6.3"
  }
 },
 "nbformat": 4,
 "nbformat_minor": 2
}
